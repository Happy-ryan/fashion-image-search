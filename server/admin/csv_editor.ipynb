{
 "cells": [
  {
   "cell_type": "code",
   "execution_count": 1,
   "metadata": {},
   "outputs": [],
   "source": [
    "import pandas as pd\n",
    "from tqdm import tqdm\n",
    "import os\n",
    "import numpy as np\n",
    "import pickle"
   ]
  },
  {
   "attachments": {},
   "cell_type": "markdown",
   "metadata": {},
   "source": [
    "#### Window 저장경로 > Mac 저장경로 변환"
   ]
  },
  {
   "cell_type": "code",
   "execution_count": 2,
   "metadata": {},
   "outputs": [
    {
     "data": {
      "text/html": [
       "<div>\n",
       "<style scoped>\n",
       "    .dataframe tbody tr th:only-of-type {\n",
       "        vertical-align: middle;\n",
       "    }\n",
       "\n",
       "    .dataframe tbody tr th {\n",
       "        vertical-align: top;\n",
       "    }\n",
       "\n",
       "    .dataframe thead th {\n",
       "        text-align: right;\n",
       "    }\n",
       "</style>\n",
       "<table border=\"1\" class=\"dataframe\">\n",
       "  <thead>\n",
       "    <tr style=\"text-align: right;\">\n",
       "      <th></th>\n",
       "      <th>key</th>\n",
       "      <th>link</th>\n",
       "      <th>name</th>\n",
       "      <th>image_link</th>\n",
       "      <th>path</th>\n",
       "    </tr>\n",
       "  </thead>\n",
       "  <tbody>\n",
       "    <tr>\n",
       "      <th>0</th>\n",
       "      <td>1000696</td>\n",
       "      <td>https://www.musinsa.com/app/goods/1000696</td>\n",
       "      <td>어커버(ACOVER) [세트상품]포인트 오버핏 롱티셔츠</td>\n",
       "      <td>https://image.msscdn.net/images/goods_img/2019...</td>\n",
       "      <td>/opt/ml/fashion-image-search/storage/images/To...</td>\n",
       "    </tr>\n",
       "    <tr>\n",
       "      <th>1</th>\n",
       "      <td>1001714</td>\n",
       "      <td>https://www.musinsa.com/app/goods/1001714</td>\n",
       "      <td>엠엠엘지(MMLG) [Mmlg] MMLG HF-T (BLACK)</td>\n",
       "      <td>https://image.msscdn.net/images/goods_img/2019...</td>\n",
       "      <td>/opt/ml/fashion-image-search/storage/images/To...</td>\n",
       "    </tr>\n",
       "    <tr>\n",
       "      <th>2</th>\n",
       "      <td>1008039</td>\n",
       "      <td>https://www.musinsa.com/app/goods/1008039</td>\n",
       "      <td>아노블리어(ANOBLIR) 루즈핏 오픈카라 텐셀 린넨 셔츠 [오트밀]</td>\n",
       "      <td>https://image.msscdn.net/images/goods_img/2019...</td>\n",
       "      <td>/opt/ml/fashion-image-search/storage/images/To...</td>\n",
       "    </tr>\n",
       "    <tr>\n",
       "      <th>3</th>\n",
       "      <td>1008043</td>\n",
       "      <td>https://www.musinsa.com/app/goods/1008043</td>\n",
       "      <td>아노블리어(ANOBLIR) 루즈핏 오픈카라 텐셀 린넨 셔츠 [네이비]</td>\n",
       "      <td>https://image.msscdn.net/images/goods_img/2019...</td>\n",
       "      <td>/opt/ml/fashion-image-search/storage/images/To...</td>\n",
       "    </tr>\n",
       "    <tr>\n",
       "      <th>4</th>\n",
       "      <td>1008583</td>\n",
       "      <td>https://www.musinsa.com/app/goods/1008583</td>\n",
       "      <td>퍼스텝(PERSTEP) [패키지] 피그먼트 크루 반팔 8종 패키지 MSST4258</td>\n",
       "      <td>https://image.msscdn.net/images/goods_img/2019...</td>\n",
       "      <td>/opt/ml/fashion-image-search/storage/images/To...</td>\n",
       "    </tr>\n",
       "    <tr>\n",
       "      <th>...</th>\n",
       "      <td>...</td>\n",
       "      <td>...</td>\n",
       "      <td>...</td>\n",
       "      <td>...</td>\n",
       "      <td>...</td>\n",
       "    </tr>\n",
       "    <tr>\n",
       "      <th>5035</th>\n",
       "      <td>997738</td>\n",
       "      <td>https://www.musinsa.com/app/goods/997738</td>\n",
       "      <td>트릴리온(TRILLION) 컬러 그라데이션 오버핏 반팔티셔츠 BLACK</td>\n",
       "      <td>https://image.msscdn.net/images/goods_img/2019...</td>\n",
       "      <td>/opt/ml/fashion-image-search/storage/images/To...</td>\n",
       "    </tr>\n",
       "    <tr>\n",
       "      <th>5036</th>\n",
       "      <td>997781</td>\n",
       "      <td>https://www.musinsa.com/app/goods/997781</td>\n",
       "      <td>트릴리온(TRILLION) 컬러 그라데이션 오버핏 반팔티셔츠 WHITE</td>\n",
       "      <td>https://image.msscdn.net/images/goods_img/2019...</td>\n",
       "      <td>/opt/ml/fashion-image-search/storage/images/To...</td>\n",
       "    </tr>\n",
       "    <tr>\n",
       "      <th>5037</th>\n",
       "      <td>997783</td>\n",
       "      <td>https://www.musinsa.com/app/goods/997783</td>\n",
       "      <td>트릴리온(TRILLION) 컬러 그라데이션 오버핏 반팔티셔츠 BLUE</td>\n",
       "      <td>https://image.msscdn.net/images/goods_img/2019...</td>\n",
       "      <td>/opt/ml/fashion-image-search/storage/images/To...</td>\n",
       "    </tr>\n",
       "    <tr>\n",
       "      <th>5038</th>\n",
       "      <td>999577</td>\n",
       "      <td>https://www.musinsa.com/app/goods/999577</td>\n",
       "      <td>휠라(FILA) 헤리티지 세리프 로고 루즈핏 반팔티 (FE2RSE5101XOWH)</td>\n",
       "      <td>https://image.msscdn.net/images/goods_img/2019...</td>\n",
       "      <td>/opt/ml/fashion-image-search/storage/images/To...</td>\n",
       "    </tr>\n",
       "    <tr>\n",
       "      <th>5039</th>\n",
       "      <td>999580</td>\n",
       "      <td>https://www.musinsa.com/app/goods/999580</td>\n",
       "      <td>휠라(FILA) 헤리티지 세리프 로고 루즈핏 반팔티 (FE2RSE5101XBLK)</td>\n",
       "      <td>https://image.msscdn.net/images/goods_img/2019...</td>\n",
       "      <td>/opt/ml/fashion-image-search/storage/images/To...</td>\n",
       "    </tr>\n",
       "  </tbody>\n",
       "</table>\n",
       "<p>5040 rows × 5 columns</p>\n",
       "</div>"
      ],
      "text/plain": [
       "          key                                       link  \\\n",
       "0     1000696  https://www.musinsa.com/app/goods/1000696   \n",
       "1     1001714  https://www.musinsa.com/app/goods/1001714   \n",
       "2     1008039  https://www.musinsa.com/app/goods/1008039   \n",
       "3     1008043  https://www.musinsa.com/app/goods/1008043   \n",
       "4     1008583  https://www.musinsa.com/app/goods/1008583   \n",
       "...       ...                                        ...   \n",
       "5035   997738   https://www.musinsa.com/app/goods/997738   \n",
       "5036   997781   https://www.musinsa.com/app/goods/997781   \n",
       "5037   997783   https://www.musinsa.com/app/goods/997783   \n",
       "5038   999577   https://www.musinsa.com/app/goods/999577   \n",
       "5039   999580   https://www.musinsa.com/app/goods/999580   \n",
       "\n",
       "                                               name  \\\n",
       "0                    어커버(ACOVER) [세트상품]포인트 오버핏 롱티셔츠   \n",
       "1               엠엠엘지(MMLG) [Mmlg] MMLG HF-T (BLACK)   \n",
       "2            아노블리어(ANOBLIR) 루즈핏 오픈카라 텐셀 린넨 셔츠 [오트밀]   \n",
       "3            아노블리어(ANOBLIR) 루즈핏 오픈카라 텐셀 린넨 셔츠 [네이비]   \n",
       "4     퍼스텝(PERSTEP) [패키지] 피그먼트 크루 반팔 8종 패키지 MSST4258   \n",
       "...                                             ...   \n",
       "5035        트릴리온(TRILLION) 컬러 그라데이션 오버핏 반팔티셔츠 BLACK   \n",
       "5036        트릴리온(TRILLION) 컬러 그라데이션 오버핏 반팔티셔츠 WHITE   \n",
       "5037         트릴리온(TRILLION) 컬러 그라데이션 오버핏 반팔티셔츠 BLUE   \n",
       "5038  휠라(FILA) 헤리티지 세리프 로고 루즈핏 반팔티 (FE2RSE5101XOWH)   \n",
       "5039  휠라(FILA) 헤리티지 세리프 로고 루즈핏 반팔티 (FE2RSE5101XBLK)   \n",
       "\n",
       "                                             image_link  \\\n",
       "0     https://image.msscdn.net/images/goods_img/2019...   \n",
       "1     https://image.msscdn.net/images/goods_img/2019...   \n",
       "2     https://image.msscdn.net/images/goods_img/2019...   \n",
       "3     https://image.msscdn.net/images/goods_img/2019...   \n",
       "4     https://image.msscdn.net/images/goods_img/2019...   \n",
       "...                                                 ...   \n",
       "5035  https://image.msscdn.net/images/goods_img/2019...   \n",
       "5036  https://image.msscdn.net/images/goods_img/2019...   \n",
       "5037  https://image.msscdn.net/images/goods_img/2019...   \n",
       "5038  https://image.msscdn.net/images/goods_img/2019...   \n",
       "5039  https://image.msscdn.net/images/goods_img/2019...   \n",
       "\n",
       "                                                   path  \n",
       "0     /opt/ml/fashion-image-search/storage/images/To...  \n",
       "1     /opt/ml/fashion-image-search/storage/images/To...  \n",
       "2     /opt/ml/fashion-image-search/storage/images/To...  \n",
       "3     /opt/ml/fashion-image-search/storage/images/To...  \n",
       "4     /opt/ml/fashion-image-search/storage/images/To...  \n",
       "...                                                 ...  \n",
       "5035  /opt/ml/fashion-image-search/storage/images/To...  \n",
       "5036  /opt/ml/fashion-image-search/storage/images/To...  \n",
       "5037  /opt/ml/fashion-image-search/storage/images/To...  \n",
       "5038  /opt/ml/fashion-image-search/storage/images/To...  \n",
       "5039  /opt/ml/fashion-image-search/storage/images/To...  \n",
       "\n",
       "[5040 rows x 5 columns]"
      ]
     },
     "execution_count": 2,
     "metadata": {},
     "output_type": "execute_result"
    }
   ],
   "source": [
    "meta_data = pd.read_csv(\"/opt/ml/fashion-image-search/storage/csv/Top.csv\")\n",
    "meta_data"
   ]
  },
  {
   "cell_type": "code",
   "execution_count": 113,
   "metadata": {},
   "outputs": [],
   "source": [
    "# window 경로 -> mac 경로 변환 함수\n",
    "def W2M(path: str):\n",
    "    NEW_PATH = \"/opt/ml/fashion-image-search/storage/images/Top\" # 저장소\n",
    "    path = path.split(\"/\")[-1] #xxx.png\n",
    "    path = os.path.join(NEW_PATH, path)\n",
    "    return path\n",
    "\n",
    "# apply 적용해서 수정\n",
    "def f(df: pd.DataFrame):\n",
    "    # ./fashion-image-search/back/infra/metadata/save5000/img/Top/252020.png\n",
    "    df['path'] = df['path'].apply(W2M)\n",
    "    return df\n",
    "\n",
    "meta_data = f(meta_data)\n",
    "\n",
    "meta_data.to_csv(\"/opt/ml/fashion-image-search/storage/csv/Top.csv\", index=False)"
   ]
  },
  {
   "attachments": {},
   "cell_type": "markdown",
   "metadata": {},
   "source": [
    "#### DataFrame에서 특정 속성에서 특정 값들을 갖는 행을 삭제"
   ]
  },
  {
   "cell_type": "code",
   "execution_count": 4,
   "metadata": {},
   "outputs": [
    {
     "data": {
      "text/html": [
       "<div>\n",
       "<style scoped>\n",
       "    .dataframe tbody tr th:only-of-type {\n",
       "        vertical-align: middle;\n",
       "    }\n",
       "\n",
       "    .dataframe tbody tr th {\n",
       "        vertical-align: top;\n",
       "    }\n",
       "\n",
       "    .dataframe thead th {\n",
       "        text-align: right;\n",
       "    }\n",
       "</style>\n",
       "<table border=\"1\" class=\"dataframe\">\n",
       "  <thead>\n",
       "    <tr style=\"text-align: right;\">\n",
       "      <th></th>\n",
       "      <th>key</th>\n",
       "      <th>value</th>\n",
       "    </tr>\n",
       "  </thead>\n",
       "  <tbody>\n",
       "    <tr>\n",
       "      <th>0</th>\n",
       "      <td>100</td>\n",
       "      <td>1</td>\n",
       "    </tr>\n",
       "    <tr>\n",
       "      <th>1</th>\n",
       "      <td>200</td>\n",
       "      <td>2</td>\n",
       "    </tr>\n",
       "    <tr>\n",
       "      <th>2</th>\n",
       "      <td>300</td>\n",
       "      <td>3</td>\n",
       "    </tr>\n",
       "    <tr>\n",
       "      <th>3</th>\n",
       "      <td>400</td>\n",
       "      <td>4</td>\n",
       "    </tr>\n",
       "    <tr>\n",
       "      <th>4</th>\n",
       "      <td>500</td>\n",
       "      <td>5</td>\n",
       "    </tr>\n",
       "  </tbody>\n",
       "</table>\n",
       "</div>"
      ],
      "text/plain": [
       "   key  value\n",
       "0  100      1\n",
       "1  200      2\n",
       "2  300      3\n",
       "3  400      4\n",
       "4  500      5"
      ]
     },
     "execution_count": 4,
     "metadata": {},
     "output_type": "execute_result"
    }
   ],
   "source": [
    "df = pd.DataFrame({'key': [100, 200, 300, 400, 500], 'value': [1, 2, 3, 4, 5]})\n",
    "df"
   ]
  },
  {
   "cell_type": "code",
   "execution_count": 8,
   "metadata": {},
   "outputs": [
    {
     "name": "stdout",
     "output_type": "stream",
     "text": [
      "CPU times: user 0 ns, sys: 0 ns, total: 0 ns\n",
      "Wall time: 1.06 ms\n"
     ]
    },
    {
     "data": {
      "text/plain": [
       "[]"
      ]
     },
     "execution_count": 8,
     "metadata": {},
     "output_type": "execute_result"
    }
   ],
   "source": [
    "%%time\n",
    "keys_to_delete = [100, 200, 300, 400, 500]\n",
    "df = df[~df['key'].isin(keys_to_delete)]\n",
    "df['key'].to_list()"
   ]
  },
  {
   "attachments": {},
   "cell_type": "markdown",
   "metadata": {},
   "source": [
    "#### make pickle"
   ]
  },
  {
   "cell_type": "code",
   "execution_count": 48,
   "metadata": {},
   "outputs": [],
   "source": [
    "import pickle\n",
    "import os\n",
    "\n",
    "def MakePickle(path: str):\n",
    "    SAVE_DIR = \"./fashion-image-search/back/infra/metadata/pickle\"\n",
    "    \n",
    "    if not os.path.exists(SAVE_DIR):\n",
    "        os.makedirs(SAVE_DIR)\n",
    "    \n",
    "    # embedding = fclip.encode_images([path], batch_size=1).flatten() # (1, 512) -> flatten -> (512,)\n",
    "    # embedding /= np.linalg.norm(embedding) # 정규화\n",
    "    \n",
    "    key = path.split(\"\\\\\")[-1][:-4]\n",
    "    \n",
    "    pickle_path = os.path.join(SAVE_DIR,f\"{key}.pkl\")\n",
    "\n",
    "    # with open(os.path.join(SAVE_DIR,f\"{key}.pkl\"), \"wb\") as f:\n",
    "    #     pickle.dump(embedding, f)\n",
    "    \n",
    "    # pickle_path = os.path.join(SAVE_DIR,f\"{key}.pkl\")\n",
    "                          \n",
    "    return pickle_path\n",
    "\n",
    "\n",
    "meta_data['embedding_path'] = meta_data['path'].apply(MakePickle)"
   ]
  },
  {
   "cell_type": "code",
   "execution_count": null,
   "metadata": {},
   "outputs": [],
   "source": [
    "def MakePickle(self, df: list) -> list[str]:\n",
    "    SAVE_DIR = \"/opt/ml/fashion-image-search/storage/images\"\n",
    "    \n",
    "    if not os.path.exists(SAVE_DIR):\n",
    "        os.makedirs(SAVE_DIR)\n",
    "        \n",
    "    paths = df['image_path'].tolist()\n",
    "    keys = df['key'].tolist()\n",
    "    \n",
    "    embedding = self.flip.encode_images([paths], batch_size=1).flatten() # (1, 512) -> flatten -> (512,)\n",
    "    embedding /= np.linalg.norm(embedding) # 정규화\n",
    "    \n",
    "    pickles = []\n",
    "\n",
    "    for key, output_emb in zip(keys,embedding):\n",
    "        with open(os.path.join(SAVE_DIR,f\"{key}.pkl\"), \"wb\") as f:\n",
    "            pickles.append(os.path.join(SAVE_DIR,f\"{key}.pkl\"))\n",
    "            pickle.dump(output_emb, f)\n",
    "                        \n",
    "    return pickles"
   ]
  },
  {
   "cell_type": "code",
   "execution_count": null,
   "metadata": {},
   "outputs": [],
   "source": [
    "meta_data"
   ]
  },
  {
   "cell_type": "code",
   "execution_count": 19,
   "metadata": {},
   "outputs": [],
   "source": [
    "def makeJsonList(csv):\n",
    "    json_list = []\n",
    "    for i in tqdm(range(len(meta_data['key']))):\n",
    "        json_template = { \"primary_key\": list(csv['key'])[i],\n",
    "                          \"name\": list(csv['name'])[i],\n",
    "                          \"link\" : {\n",
    "                                'musinsa_link': list(csv['link'])[i],\n",
    "                                'image_link': list(csv['image_link'])[i]\n",
    "                          },\n",
    "                          \"info\": {\n",
    "                                'type': 'Top',\n",
    "                                'color': 'black'\n",
    "                          },\n",
    "                          \"path\": {\n",
    "                                 'imaga_path': list(csv['path'])[i],\n",
    "                                 'pickle_path': list(csv['pickle_path'])[i]\n",
    "                          }\n",
    "                          }\n",
    "        json_list.append(json_template)\n",
    "        \n",
    "    return json_list"
   ]
  },
  {
   "cell_type": "code",
   "execution_count": 4,
   "metadata": {},
   "outputs": [],
   "source": [
    "df = meta_data\n",
    "jsonList = []\n",
    "for _, row in df.iterrows():\n",
    "    json_template = {\n",
    "        **row,\n",
    "        \"category\": {\n",
    "            \"type\": \"Top\"\n",
    "        }\n",
    "    }\n",
    "    jsonList.append(json_template)"
   ]
  },
  {
   "cell_type": "code",
   "execution_count": 6,
   "metadata": {},
   "outputs": [
    {
     "name": "stdout",
     "output_type": "stream",
     "text": [
      "[{'category': {'type': 'Top'},\n",
      "  'image_link': 'https://image.msscdn.net/images/goods_img/20190401/1000696/1000696_10_500.gif',\n",
      "  'key': 1000696,\n",
      "  'link': 'https://www.musinsa.com/app/goods/1000696',\n",
      "  'name': '어커버(ACOVER) [세트상품]포인트 오버핏 롱티셔츠',\n",
      "  'path': '/opt/ml/fashion-image-search/storage/images/Top/1000696.png'},\n",
      " {'category': {'type': 'Top'},\n",
      "  'image_link': 'https://image.msscdn.net/images/goods_img/20190402/1001714/1001714_1_500.jpg',\n",
      "  'key': 1001714,\n",
      "  'link': 'https://www.musinsa.com/app/goods/1001714',\n",
      "  'name': '엠엠엘지(MMLG) [Mmlg] MMLG HF-T (BLACK)',\n",
      "  'path': '/opt/ml/fashion-image-search/storage/images/Top/1001714.png'},\n",
      " {'category': {'type': 'Top'},\n",
      "  'image_link': 'https://image.msscdn.net/images/goods_img/20190408/1008039/1008039_16871513087312_500.jpg',\n",
      "  'key': 1008039,\n",
      "  'link': 'https://www.musinsa.com/app/goods/1008039',\n",
      "  'name': '아노블리어(ANOBLIR) 루즈핏 오픈카라 텐셀 린넨 셔츠 [오트밀]',\n",
      "  'path': '/opt/ml/fashion-image-search/storage/images/Top/1008039.png'}]\n"
     ]
    }
   ],
   "source": [
    "from pprint import pprint\n",
    "pprint(jsonList[:3])"
   ]
  },
  {
   "cell_type": "code",
   "execution_count": null,
   "metadata": {},
   "outputs": [],
   "source": []
  }
 ],
 "metadata": {
  "kernelspec": {
   "display_name": "Python 3 (ipykernel)",
   "language": "python",
   "name": "python3"
  },
  "language_info": {
   "codemirror_mode": {
    "name": "ipython",
    "version": 3
   },
   "file_extension": ".py",
   "mimetype": "text/x-python",
   "name": "python",
   "nbconvert_exporter": "python",
   "pygments_lexer": "ipython3",
   "version": "3.10.11"
  },
  "orig_nbformat": 4
 },
 "nbformat": 4,
 "nbformat_minor": 2
}
