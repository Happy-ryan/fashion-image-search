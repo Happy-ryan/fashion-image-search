{
 "cells": [
  {
   "attachments": {},
   "cell_type": "markdown",
   "metadata": {},
   "source": [
    "# np.array에서 for문이 효율적인가?"
   ]
  },
  {
   "cell_type": "code",
   "execution_count": 125,
   "metadata": {},
   "outputs": [],
   "source": [
    "import numpy as np\n",
    "import time"
   ]
  },
  {
   "attachments": {},
   "cell_type": "markdown",
   "metadata": {},
   "source": [
    "## 체크1"
   ]
  },
  {
   "cell_type": "code",
   "execution_count": 108,
   "metadata": {},
   "outputs": [],
   "source": [
    "# dists = np.array([0.1234, 0.43534, 0.4545, 0.12398, 0.7789, 0.6583, 0.5563, 0.33423, 0.832423,])\n",
    "# ids = np.array(list(range(9)))\n",
    "# thresh = 0.0"
   ]
  },
  {
   "cell_type": "code",
   "execution_count": 121,
   "metadata": {},
   "outputs": [
    {
     "name": "stdout",
     "output_type": "stream",
     "text": [
      "22 ms ± 342 µs per loop (mean ± std. dev. of 10 runs, 100 loops each)\n"
     ]
    }
   ],
   "source": [
    "%%timeit -n 100 -r 10\n",
    "# dists = np.array([0.1234, 0.43534, 0.4545, 0.12398, 0.7789, 0.6583, 0.5563, 0.33423, 0.832423,])\n",
    "# ids = np.array(list(range(9)))\n",
    "# thresh = 0.001\n",
    "dists = np.random.rand(100000)\n",
    "ids = np.array(list(range(100000)))\n",
    "thresh = 0.0\n",
    "for idx, dist in enumerate(dists):\n",
    "    if dist <= thresh:\n",
    "        dist = dist[:idx]\n",
    "        ids = ids[:idx]\n",
    "        break\n",
    "dists.flatten().tolist()"
   ]
  },
  {
   "cell_type": "code",
   "execution_count": 122,
   "metadata": {},
   "outputs": [
    {
     "name": "stdout",
     "output_type": "stream",
     "text": [
      "10.8 ms ± 110 µs per loop (mean ± std. dev. of 10 runs, 100 loops each)\n"
     ]
    }
   ],
   "source": [
    "%%timeit -n 100 -r 10\n",
    "# dists = np.array([0.1234, 0.43534, 0.4545, 0.12398, 0.7789, 0.6583, 0.5563, 0.33423, 0.832423,])\n",
    "# ids = np.array(list(range(9)))\n",
    "# thresh = 0.001\n",
    "dists = np.random.rand(100000)\n",
    "ids = np.array(list(range(100000)))\n",
    "thresh = 0.0\n",
    "indices = np.where(dists >= thresh)[0]\n",
    "dists = dists[:len(indices)]\n",
    "ids = ids[:len(indices)]\n",
    "\n",
    "dists.flatten().tolist()"
   ]
  },
  {
   "cell_type": "code",
   "execution_count": 123,
   "metadata": {},
   "outputs": [
    {
     "name": "stdout",
     "output_type": "stream",
     "text": [
      "11.1 ms ± 175 µs per loop (mean ± std. dev. of 10 runs, 100 loops each)\n"
     ]
    }
   ],
   "source": [
    "%%timeit -n 100 -r 10\n",
    "# dists = np.array([0.1234, 0.43534, 0.4545, 0.12398, 0.7789, 0.6583, 0.5563, 0.33423, 0.832423,])\n",
    "# ids = np.array(list(range(9)))\n",
    "# thresh = 0.001\n",
    "dists = np.random.rand(100000)\n",
    "ids = np.array(list(range(100000)))\n",
    "thresh = 0.0\n",
    "indices = np.where(dists >= thresh)[0]\n",
    "k = len(indices)\n",
    "dists = dists[:k]\n",
    "ids = ids[:k]\n",
    "\n",
    "dists.flatten().tolist()"
   ]
  },
  {
   "cell_type": "code",
   "execution_count": 124,
   "metadata": {},
   "outputs": [
    {
     "name": "stdout",
     "output_type": "stream",
     "text": [
      "36 ms ± 1.02 ms per loop (mean ± std. dev. of 10 runs, 100 loops each)\n"
     ]
    }
   ],
   "source": [
    "%%timeit -n 100 -r 10\n",
    "# dists = np.array([0.1234, 0.43534, 0.4545, 0.12398, 0.7789, 0.6583, 0.5563, 0.33423, 0.832423,])\n",
    "# ids = np.array(list(range(9)))\n",
    "# thresh = 0.001\n",
    "dists = np.random.rand(100000)\n",
    "ids = np.array(list(range(100000)))\n",
    "thresh = 0.0\n",
    "it = np.nditer(dists, flags=['c_index'])\n",
    "while not it.finished:\n",
    "    idx = it.index\n",
    "    if dists[idx] <= thresh:\n",
    "        break\n",
    "    it.iternext()\n",
    "dists = dists[:idx]\n",
    "ids = ids[:idx]\n",
    "\n",
    "dists.flatten().tolist()"
   ]
  },
  {
   "attachments": {},
   "cell_type": "markdown",
   "metadata": {},
   "source": [
    "## 체크2"
   ]
  },
  {
   "cell_type": "code",
   "execution_count": null,
   "metadata": {},
   "outputs": [],
   "source": [
    "def array_time_check(thresh: float, iter_mode: int):\n",
    "    # --faiss의 결과물이므로 자동으로 dists는 \"가끼운 순으로 정렬\"된다.\n",
    "    dists = np.array([0.1234, 0.43534, 0.4545, 0.12398, 0.7789, 0.6583, 0.5563, 0.33423, 0.832423,])\n",
    "    ids = np.array(list(range(9)))\n",
    "    \n",
    "    start_time = time.perf_counter()\n",
    "\n",
    "    if iter_mode == 1:\n",
    "        for idx, dist in enumerate(dists):\n",
    "            if dist <= thresh:\n",
    "                dist = dist[:idx]\n",
    "                ids = ids[:idx]\n",
    "                break\n",
    "    elif iter_mode == 2:\n",
    "        indices = np.where(dists >= thresh)[0]\n",
    "        dists = dists[:len(indices)]\n",
    "        ids = ids[:len(indices)]\n",
    "    else:\n",
    "        it = np.nditer(dists, flags=['c_index'])\n",
    "        while not it.finished:\n",
    "            idx = it.index\n",
    "            if dists[idx] <= thresh:\n",
    "                break\n",
    "            it.iternext()\n",
    "        dists = dists[:idx]\n",
    "        ids = ids[:idx]\n",
    "        \n",
    "    dists.flatten().tolist(), ids.flatten().tolist()\n",
    "    \n",
    "    end_time = time.perf_counter()\n",
    "    \n",
    "    return f\"실행 시간_time이 함수 안에 있을 때: {end_time - start_time:.5f}초: {iter_mode},\\n{dists},\\n{ids}\"\n",
    "\n",
    "start_time = time.perf_counter()\n",
    "\n",
    "print(array_time_check(0.01, 1))\n",
    "\n",
    "end_time = time.perf_counter()\n",
    "\n",
    "print(f\"실행 시간: {end_time - start_time:.5f}초, for사용\")\n",
    "\n",
    "print(\"-\" * 80)\n",
    "\n",
    "start_time = time.perf_counter()\n",
    "\n",
    "print(array_time_check(0.01, 2))\n",
    "\n",
    "end_time = time.perf_counter()\n",
    "\n",
    "print(f\"실행 시간: {end_time - start_time:.5f}초, where사용\")\n",
    "\n",
    "print(\"-\" * 80)\n",
    "\n",
    "start_time = time.perf_counter()\n",
    "\n",
    "print(array_time_check(0.01, 3))\n",
    "\n",
    "end_time = time.perf_counter()\n",
    "\n",
    "print(f\"실행 시간: {end_time - start_time:.5f}초, iter사용\")"
   ]
  },
  {
   "cell_type": "code",
   "execution_count": 134,
   "metadata": {},
   "outputs": [
    {
     "name": "stdout",
     "output_type": "stream",
     "text": [
      "(1, 10)\n",
      "[[0.49652797037415364, 0.5688486949011543, 0.3534625928447229, 0.21231535865548912, 0.3835059781620266, 0.7413077356656254, 0.31619987147365525, 0.31173874513363653, 0.9703179855055901, 0.5290041201080805]]\n",
      "[0.49652797 0.56884869 0.35346259 0.21231536 0.38350598 0.74130774\n",
      " 0.31619987 0.31173875 0.97031799 0.52900412]\n",
      "[0.49652797037415364, 0.5688486949011543, 0.3534625928447229, 0.21231535865548912, 0.3835059781620266, 0.7413077356656254, 0.31619987147365525, 0.31173874513363653, 0.9703179855055901, 0.5290041201080805]\n"
     ]
    }
   ],
   "source": [
    "arr = np.random.rand(1, 10)\n",
    "print(arr.shape)\n",
    "print(arr.tolist())\n",
    "print(arr.flatten())\n",
    "print(arr.flatten().tolist())"
   ]
  },
  {
   "cell_type": "code",
   "execution_count": null,
   "metadata": {},
   "outputs": [],
   "source": []
  }
 ],
 "metadata": {
  "kernelspec": {
   "display_name": "Python 3 (ipykernel)",
   "language": "python",
   "name": "python3"
  },
  "language_info": {
   "codemirror_mode": {
    "name": "ipython",
    "version": 3
   },
   "file_extension": ".py",
   "mimetype": "text/x-python",
   "name": "python",
   "nbconvert_exporter": "python",
   "pygments_lexer": "ipython3",
   "version": "3.8.5"
  },
  "orig_nbformat": 4
 },
 "nbformat": 4,
 "nbformat_minor": 2
}
